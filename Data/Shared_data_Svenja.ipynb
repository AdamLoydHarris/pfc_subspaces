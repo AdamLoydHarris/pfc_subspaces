{
 "cells": [
  {
   "cell_type": "code",
   "execution_count": 1,
   "metadata": {},
   "outputs": [],
   "source": [
    "import numpy as np\n",
    "import scipy.stats as st\n",
    "import matplotlib.pyplot as plt\n",
    "import os, sys, pickle, time, re, csv"
   ]
  },
  {
   "cell_type": "code",
   "execution_count": 2,
   "metadata": {},
   "outputs": [
    {
     "data": {
      "text/plain": [
       "'Data is here: https://drive.google.com/drive/folders/1vJw8AVZmHQrUnvqkASUwAd4t549uKN6b'"
      ]
     },
     "execution_count": 2,
     "metadata": {},
     "output_type": "execute_result"
    }
   ],
   "source": [
    "Data_folder='C:/Users/moham/team_mouse Dropbox/Mohamady El-Gaby/Taskspace_abstraction/Data/Intermediate_objects/' \n",
    "##replace this\n",
    "'Data is here: https://drive.google.com/drive/folders/1vJw8AVZmHQrUnvqkASUwAd4t549uKN6b'"
   ]
  },
  {
   "cell_type": "code",
   "execution_count": null,
   "metadata": {},
   "outputs": [],
   "source": []
  },
  {
   "cell_type": "code",
   "execution_count": null,
   "metadata": {},
   "outputs": [],
   "source": []
  },
  {
   "cell_type": "code",
   "execution_count": 3,
   "metadata": {},
   "outputs": [
    {
     "data": {
      "text/plain": [
       "'\\n####################\\n###Data structure###\\n####################\\n\\n\\n##Neuron npy files:\\nThese contain the normalized firing rates of each neuron - spikes per frame (frame rate is 60 Hz)\\n\\nnpy files for each session\\nmatrix with dimensions [neuron,trial,bin]\\n\\n360 bins per trial, every state is 90 bins\\n\\n##Location npy files:\\nThese contain the location of the animal in each bin (should correspond exactly to the neuron bins)\\nlocations1-9 are the 9 nodes\\n\\nThen the remaining locations 10-21 are the bridges, coded in the \"Edge_grid\" array. just subtract 10 and that\\ngives you the index of the Edge_grid array which tells you which bridges are being referenced\\ne.g. an entry of 10 means index 0 which is array([1, 2]) (i.e. animal is at the the bridge between nodes 1 and 2)\\n\\n##task_data\\nthis is the task sequence used for that day (which nodes are rewarded in what order)\\n\\n'"
      ]
     },
     "execution_count": 3,
     "metadata": {},
     "output_type": "execute_result"
    }
   ],
   "source": [
    "'''\n",
    "####################\n",
    "###Data structure###\n",
    "####################\n",
    "\n",
    "\n",
    "##Neuron npy files:\n",
    "These contain the normalized firing rates of each neuron - spikes per frame (frame rate is 60 Hz)\n",
    "\n",
    "npy files for each session\n",
    "matrix with dimensions [neuron,trial,bin]\n",
    "\n",
    "360 bins per trial, every state is 90 bins\n",
    "\n",
    "##Location npy files:\n",
    "These contain the location of the animal in each bin (should correspond exactly to the neuron bins)\n",
    "locations1-9 are the 9 nodes\n",
    "\n",
    "Then the remaining locations 10-21 are the bridges, coded in the \"Edge_grid\" array. just subtract 10 and that\n",
    "gives you the index of the Edge_grid array which tells you which bridges are being referenced\n",
    "e.g. an entry of 10 means index 0 which is array([1, 2]) (i.e. animal is at the the bridge between nodes 1 and 2)\n",
    "\n",
    "##task_data\n",
    "this is the task sequence used for that day (which nodes are rewarded in what order)\n",
    "\n",
    "\n",
    "#####Raw data:\n",
    "\n",
    "Neuron_raw arrays are matrices of shape neurons X bins\n",
    "each bin is the firing rate in a 25 ms timewindow\n",
    "\n",
    "Location_raw arrays are arrays of length equal to the number of bins for the Neuron_raw matrix (may be 1 off)\n",
    "\n",
    "trialtimes arrays are times (in ms) of each state: the first four columns are the start of each state\n",
    "the fifth column is the end of the last state (D)\n",
    "\n",
    "Note that you'll have to convert the trial times from ms to bin number to subset the neuron and location arrays \n",
    "(i.e. divide by 25)\n",
    "\n",
    "'''"
   ]
  },
  {
   "cell_type": "code",
   "execution_count": null,
   "metadata": {},
   "outputs": [],
   "source": []
  },
  {
   "cell_type": "code",
   "execution_count": 4,
   "metadata": {},
   "outputs": [
    {
     "data": {
      "text/plain": [
       "array(['ah03_18082021_19082021', 'ah04_01122021_02122021',\n",
       "       'ah04_05122021_06122021', 'ah04_09122021_10122021',\n",
       "       'me08_10092021_11092021', 'me10_09122021_10122021',\n",
       "       'me11_01122021_02122021', 'me11_05122021_06122021'], dtype='<U22')"
      ]
     },
     "execution_count": 4,
     "metadata": {},
     "output_type": "execute_result"
    }
   ],
   "source": [
    "##Recording days used\n",
    "'''These are pairs of days which were spike sorted together to give a total of 6 tasks: animals do 3 tasks a day'''\n",
    "\n",
    "Recording_days=np.load(Data_folder+'Recording_days_combined.npy')\n",
    "Recording_days"
   ]
  },
  {
   "cell_type": "code",
   "execution_count": 5,
   "metadata": {},
   "outputs": [
    {
     "data": {
      "text/plain": [
       "array([[7, 4, 3, 5],\n",
       "       [3, 2, 6, 9],\n",
       "       [4, 8, 9, 7],\n",
       "       [7, 4, 3, 8],\n",
       "       [1, 7, 3, 5],\n",
       "       [6, 8, 2, 7],\n",
       "       [6, 8, 2, 7],\n",
       "       [9, 1, 4, 6],\n",
       "       [1, 7, 3, 5]])"
      ]
     },
     "execution_count": 5,
     "metadata": {},
     "output_type": "execute_result"
    }
   ],
   "source": [
    "##example task array\n",
    "mouse_recday='me11_05122021_06122021'\n",
    "Tasks=np.load(Data_folder+'Task_data_'+mouse_recday+'.npy')\n",
    "\n",
    "Tasks"
   ]
  },
  {
   "cell_type": "code",
   "execution_count": 6,
   "metadata": {},
   "outputs": [
    {
     "data": {
      "text/plain": [
       "array([[1, 2],\n",
       "       [2, 3],\n",
       "       [1, 4],\n",
       "       [2, 5],\n",
       "       [3, 6],\n",
       "       [4, 5],\n",
       "       [5, 6],\n",
       "       [4, 7],\n",
       "       [5, 8],\n",
       "       [6, 9],\n",
       "       [7, 8],\n",
       "       [8, 9]])"
      ]
     },
     "execution_count": 6,
     "metadata": {},
     "output_type": "execute_result"
    }
   ],
   "source": [
    "#Edge grid\n",
    "'''use this to make sense of the location arrays (see data structure above)'''\n",
    "Edge_grid=np.load(Data_folder+'Edge_grid.npy')\n",
    "Edge_grid"
   ]
  },
  {
   "cell_type": "code",
   "execution_count": 7,
   "metadata": {},
   "outputs": [
    {
     "name": "stdout",
     "output_type": "stream",
     "text": [
      "(37, 360)\n"
     ]
    },
    {
     "data": {
      "text/plain": [
       "array([ 7.,  7.,  7.,  7.,  7.,  7.,  7.,  7.,  7.,  7.,  7.,  7.,  7.,\n",
       "       20.,  8.,  8.,  8.,  8., 18.,  5.,  5.,  5., 16.,  6.,  6.,  6.,\n",
       "       14.,  3.,  3.,  3., 11.,  2.,  2.,  2., 10.,  1.,  1.,  1., 12.,\n",
       "        4.,  4.,  4., 15.,  5.,  5.,  5., 18.,  8.,  8.,  8.,  8.,  8.,\n",
       "       21.,  9.,  9., 19., 19.,  6.,  6.,  6., 16.,  5.,  5.,  5., 13.,\n",
       "        2.,  2.,  2., 11.,  3.,  3.,  3., 14.,  6.,  6.,  6., 16.,  5.,\n",
       "        5., 18.,  8.,  8.,  8.,  8., 20.,  7.,  7.,  7., 17.,  4.,  4.,\n",
       "        4.,  4.,  4.,  4.,  4.,  4.,  4.,  4.,  4.,  4.,  4.,  4.,  4.,\n",
       "        4.,  4.,  4.,  4.,  4.,  4.,  4.,  4.,  4.,  4.,  4.,  4.,  4.,\n",
       "        4.,  4.,  4.,  4.,  4.,  4.,  4.,  4.,  4.,  4.,  4.,  4.,  4.,\n",
       "        4.,  4.,  4.,  4.,  4.,  4.,  4.,  4.,  4.,  4.,  4.,  4.,  4.,\n",
       "        4.,  4.,  4.,  4.,  4.,  4.,  4., 15., 15., 15.,  5.,  5.,  5.,\n",
       "        5.,  5.,  5.,  5.,  5.,  5., 13., 13.,  2.,  2.,  2.,  2.,  2.,\n",
       "        2.,  2.,  2.,  2.,  2., 11., 11., 11.,  3.,  3.,  3.,  3.,  3.,\n",
       "        3.,  3.,  3.,  3.,  3.,  3.,  3.,  3.,  3.,  3.,  3.,  3.,  3.,\n",
       "        3.,  3.,  3.,  3.,  3.,  3.,  3.,  3.,  3.,  3.,  3.,  3.,  3.,\n",
       "        3.,  3.,  3.,  3.,  3., 14., 14., 14., 14., 14.,  6.,  6.,  6.,\n",
       "        6., 19.,  9.,  9.,  9.,  9.,  9.,  9., 21., 21.,  8.,  8.,  8.,\n",
       "        8.,  8.,  8.,  7.,  7.,  7.,  7.,  7.,  7., 17.,  4.,  4.,  4.,\n",
       "        4.,  4., 12.,  1.,  1.,  1.,  1.,  1.,  1.,  1., 10., 10.,  2.,\n",
       "        2.,  2.,  2.,  2.,  2., 13., 13., 13.,  5.,  5.,  5.,  5.,  5.,\n",
       "        5.,  5.,  5.,  5.,  5.,  5.,  5.,  5.,  5.,  5.,  5.,  5.,  5.,\n",
       "        5.,  5.,  5.,  5.,  5.,  5.,  5.,  5.,  5.,  5.,  5.,  5.,  5.,\n",
       "        5.,  5.,  5.,  5.,  5.,  5.,  5.,  5.,  5.,  5.,  5.,  5.,  5.,\n",
       "        5.,  5.,  5.,  5.,  5.,  5.,  5.,  5.,  5.,  5.,  5.,  5.,  5.,\n",
       "        5.,  5.,  5.,  5.,  5.,  5.,  5.,  5.,  5.,  5.,  5.,  5.,  5.,\n",
       "        5.,  5., 15., 15., 15., 15.,  4.,  4.,  4.,  4.,  4.,  4., 15.,\n",
       "        4.,  4.,  4., 17., 17., 17.,  7.,  7.,  7.])"
      ]
     },
     "execution_count": 7,
     "metadata": {},
     "output_type": "execute_result"
    }
   ],
   "source": [
    "##Example Location array\n",
    "\n",
    "mouse_recday='me11_05122021_06122021'\n",
    "session=0\n",
    "location_=np.load(Data_folder+'Location_'+mouse_recday+'_'+str(session)+'.npy')\n",
    "\n",
    "print(np.shape(location_))\n",
    "location_[0]"
   ]
  },
  {
   "cell_type": "code",
   "execution_count": 31,
   "metadata": {},
   "outputs": [
    {
     "data": {
      "image/png": "[encoded data removed]",
      "text/plain": [
       "<Figure size 1152x144 with 1 Axes>"
      ]
     },
     "metadata": {
      "needs_background": "light"
     },
     "output_type": "display_data"
    },
    {
     "name": "stdout",
     "output_type": "stream",
     "text": [
      "(37, 360)\n"
     ]
    }
   ],
   "source": [
    "##Example Neuron activity\n",
    "mouse_recday='me11_05122021_06122021'\n",
    "session=0\n",
    "neuron=0\n",
    "\n",
    "data_neurons=np.load(Data_folder+'Neuron_'+mouse_recday+'_'+str(session)+'.npy')\n",
    "data_neuron=data_neurons[neuron]\n",
    "\n",
    "plt.matshow(data_neuron)\n",
    "for angle in np.arange(4)*90:\n",
    "    plt.axvline(angle,color='red',ls='dashed')\n",
    "plt.show()\n",
    "\n",
    "print(np.shape(data_neuron))"
   ]
  },
  {
   "cell_type": "code",
   "execution_count": 19,
   "metadata": {},
   "outputs": [
    {
     "data": {
      "text/plain": [
       "array([[0.63157895, 0.63157895, 0.52631579, ..., 0.2       , 0.4       ,\n",
       "        0.66666667],\n",
       "       [0.875     , 1.        , 1.        , ..., 0.        , 0.25      ,\n",
       "        0.625     ],\n",
       "       [1.        , 1.        , 2.25      , ..., 0.        , 0.33333333,\n",
       "        0.88888889],\n",
       "       ...,\n",
       "       [1.        , 2.        , 1.        , ..., 0.        , 0.75      ,\n",
       "        0.75      ],\n",
       "       [0.66666667, 1.        , 1.5       , ..., 0.75      , 1.        ,\n",
       "        1.25      ],\n",
       "       [1.5       , 1.33333333, 1.        , ..., 0.        , 0.33333333,\n",
       "        1.14285714]])"
      ]
     },
     "execution_count": 19,
     "metadata": {},
     "output_type": "execute_result"
    }
   ],
   "source": [
    "data_neuron"
   ]
  },
  {
   "cell_type": "code",
   "execution_count": null,
   "metadata": {},
   "outputs": [],
   "source": []
  },
  {
   "cell_type": "code",
   "execution_count": 12,
   "metadata": {},
   "outputs": [
    {
     "data": {
      "text/plain": [
       "<matplotlib.image.AxesImage at 0x2a4bc8f40a0>"
      ]
     },
     "execution_count": 12,
     "metadata": {},
     "output_type": "execute_result"
    },
    {
     "data": {
      "image/png": "[encoded data removed]",
      "text/plain": [
       "<Figure size 626.087x288 with 1 Axes>"
      ]
     },
     "metadata": {
      "needs_background": "light"
     },
     "output_type": "display_data"
    }
   ],
   "source": [
    "##Example raw neuron activity\n",
    "mouse_recday='me11_05122021_06122021'\n",
    "session=0\n",
    "Neuron_raw=np.load(Data_folder+'Neuron_raw_'+mouse_recday+'_'+str(session)+'.npy')\n",
    "plt.matshow(Neuron_raw[:,:100])"
   ]
  },
  {
   "cell_type": "code",
   "execution_count": 13,
   "metadata": {},
   "outputs": [
    {
     "name": "stdout",
     "output_type": "stream",
     "text": [
      "[7. 7. 7. ... 3. 3. 3.]\n"
     ]
    }
   ],
   "source": [
    "##Example raw location\n",
    "mouse_recday='me11_05122021_06122021'\n",
    "session=0\n",
    "Location_raw=np.load(Data_folder+'Location_raw_'+mouse_recday+'_'+str(session)+'.npy')\n",
    "print(Location_raw)"
   ]
  },
  {
   "cell_type": "code",
   "execution_count": 14,
   "metadata": {},
   "outputs": [
    {
     "name": "stdout",
     "output_type": "stream",
     "text": [
      "[[      0   28281   37530   52913   60444]\n",
      " [  60444   71109   82048   88885  100746]\n",
      " [ 100746  105880  120191  128263  141746]\n",
      " [ 141746  158295  165093  180260  191678]\n",
      " [ 191678  195225  205526  220191  225980]\n",
      " [ 225980  236466  245755  264650  273200]\n",
      " [ 273200  277549  290244  297799  306116]\n",
      " [ 306116  310499  320357  326988  333894]\n",
      " [ 333894  338003  351410  357431  365823]\n",
      " [ 365823  371263  378970  388377  395136]\n",
      " [ 395136  399503  407190  412171  419973]\n",
      " [ 419973  425610  434328  440071  447185]\n",
      " [ 447185  451190  461302  466944  471890]\n",
      " [ 471890  476901  483760  490162  496769]\n",
      " [ 496769  502656  509776  515424  522801]\n",
      " [ 522801  526872  533576  538595  549444]\n",
      " [ 549444  555895  565699  574145  583270]\n",
      " [ 583270  589264  600183  607608  615943]\n",
      " [ 615943  620412  629838  639555  647759]\n",
      " [ 647759  656179  668115  676404  689173]\n",
      " [ 689173  694265  700799  717032  730565]\n",
      " [ 730565  739107  756527  765340  771537]\n",
      " [ 771537  775450  782676  787701  794116]\n",
      " [ 794116  800686  808005  814399  841402]\n",
      " [ 841402  845261  851240  856225  866604]\n",
      " [ 866604  870347  876178  882028  887442]\n",
      " [ 887442  892054  897812  901959  909583]\n",
      " [ 909583  914415  920845  927037  933160]\n",
      " [ 933160  936852  942862  948022  954404]\n",
      " [ 954404  958210  965264  970638  978322]\n",
      " [ 978322  982420  988098  994029 1002359]\n",
      " [1002359 1006226 1012591 1017912 1026604]\n",
      " [1026604 1031118 1037974 1046127 1055512]\n",
      " [1055512 1060819 1065723 1071964 1082835]\n",
      " [1082835 1086478 1091213 1097340 1102726]\n",
      " [1102726 1106577 1117384 1123195 1128736]\n",
      " [1128736 1133915 1139126 1144756 1154430]\n",
      " [1154430 1157620 1163544 1169173 1175447]]\n"
     ]
    }
   ],
   "source": [
    "##Example raw trial times\n",
    "mouse_recday='me11_05122021_06122021'\n",
    "session=0\n",
    "Trial_times=np.load(Data_folder+'trialtimes_'+mouse_recday+'_'+str(session)+'.npy')\n",
    "print(Trial_times)"
   ]
  },
  {
   "cell_type": "code",
   "execution_count": null,
   "metadata": {},
   "outputs": [],
   "source": []
  },
  {
   "cell_type": "code",
   "execution_count": null,
   "metadata": {},
   "outputs": [],
   "source": []
  },
  {
   "cell_type": "code",
   "execution_count": null,
   "metadata": {},
   "outputs": [],
   "source": []
  }
 ],
 "metadata": {
  "kernelspec": {
   "display_name": "Python 3",
   "language": "python",
   "name": "python3"
  },
  "language_info": {
   "codemirror_mode": {
    "name": "ipython",
    "version": 3
   },
   "file_extension": ".py",
   "mimetype": "text/x-python",
   "name": "python",
   "nbconvert_exporter": "python",
   "pygments_lexer": "ipython3",
   "version": "3.8.3"
  }
 },
 "nbformat": 4,
 "nbformat_minor": 4
}
